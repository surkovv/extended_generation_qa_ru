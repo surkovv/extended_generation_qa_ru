{
 "cells": [
  {
   "cell_type": "code",
   "execution_count": 1,
   "id": "659eb8d6",
   "metadata": {},
   "outputs": [],
   "source": [
    "import json\n",
    "from tqdm.notebook import tqdm\n",
    "from datasets import load_dataset\n",
    "from sklearn.model_selection import train_test_split"
   ]
  },
  {
   "cell_type": "code",
   "execution_count": 2,
   "id": "1a872902",
   "metadata": {},
   "outputs": [
    {
     "name": "stderr",
     "output_type": "stream",
     "text": [
      "Found cached dataset ms_marco (/home/admin/.cache/huggingface/datasets/ms_marco/v2.1/2.1.0/b6a62715fa5219aea5275dd3556601004cd63945cb63e36e022f77bb3cbbca84)\n"
     ]
    }
   ],
   "source": [
    "dataset = load_dataset(\"ms_marco\", split='train', name='v2.1')"
   ]
  },
  {
   "cell_type": "code",
   "execution_count": 3,
   "id": "0927e87f",
   "metadata": {},
   "outputs": [
    {
     "name": "stdout",
     "output_type": "stream",
     "text": [
      "808731\n"
     ]
    }
   ],
   "source": [
    "print(len(dataset))"
   ]
  },
  {
   "cell_type": "markdown",
   "id": "018957ed",
   "metadata": {},
   "source": [
    "Уберу бесполезные параграфы"
   ]
  },
  {
   "cell_type": "code",
   "execution_count": 4,
   "id": "171bb9da",
   "metadata": {},
   "outputs": [],
   "source": [
    "def filter_passages(passages, is_selected):\n",
    "    zipped = zip(passages, is_selected)\n",
    "    return list(filter(lambda x: x[1], zipped))"
   ]
  },
  {
   "cell_type": "code",
   "execution_count": 5,
   "id": "78f6ef5d",
   "metadata": {},
   "outputs": [],
   "source": [
    "n_all, n_substr = 0, 0"
   ]
  },
  {
   "cell_type": "code",
   "execution_count": 53,
   "id": "a73cf86c",
   "metadata": {},
   "outputs": [
    {
     "data": {
      "application/vnd.jupyter.widget-view+json": {
       "model_id": "4bf10946993f470cb5c56f4295bdb223",
       "version_major": 2,
       "version_minor": 0
      },
      "text/plain": [
       "  0%|          | 0/808731 [00:00<?, ?it/s]"
      ]
     },
     "metadata": {},
     "output_type": "display_data"
    }
   ],
   "source": [
    "for data in tqdm(dataset):\n",
    "    passages = filter_passages(data['passages']['passage_text'], data['passages']['is_selected'])\n",
    "    if passages == []:\n",
    "        continue\n",
    "    answer = data['answers'][0]\n",
    "    n_all += 1\n",
    "    for passage in passages:\n",
    "        if passage[0].lower().find(answer.lower()) != -1:\n",
    "            n_substr += 1\n",
    "            break"
   ]
  },
  {
   "cell_type": "markdown",
   "id": "d2589f3c",
   "metadata": {},
   "source": [
    "Доля подстрок"
   ]
  },
  {
   "cell_type": "code",
   "execution_count": 54,
   "id": "1d918467",
   "metadata": {},
   "outputs": [
    {
     "data": {
      "text/plain": [
       "502939"
      ]
     },
     "execution_count": 54,
     "metadata": {},
     "output_type": "execute_result"
    }
   ],
   "source": [
    "n_all"
   ]
  },
  {
   "cell_type": "code",
   "execution_count": 55,
   "id": "cb238fb4",
   "metadata": {},
   "outputs": [
    {
     "data": {
      "text/plain": [
       "0.541503045100897"
      ]
     },
     "execution_count": 55,
     "metadata": {},
     "output_type": "execute_result"
    }
   ],
   "source": [
    "n_substr / n_all"
   ]
  },
  {
   "cell_type": "markdown",
   "id": "f55ec863",
   "metadata": {},
   "source": [
    "**Алгоритм обработки датасета**\n",
    "\n",
    "Убрать все неиспользуемые параграфы. Убрать все записи без используемых параграфов. Отфильтировать только ответы состоящие из <=50 токенов. Оставить лишь первый ответ. Убрать записи без ответов. Оставить лишь записи, в которых будет не более 500 токенов."
   ]
  },
  {
   "cell_type": "code",
   "execution_count": 5,
   "id": "f794fa94",
   "metadata": {},
   "outputs": [
    {
     "name": "stderr",
     "output_type": "stream",
     "text": [
      "[nltk_data] Downloading package punkt to /home/admin/nltk_data...\n",
      "[nltk_data]   Package punkt is already up-to-date!\n",
      "[nltk_data] Downloading package stopwords to /home/admin/nltk_data...\n",
      "[nltk_data]   Package stopwords is already up-to-date!\n",
      "[nltk_data] Downloading package perluniprops to\n",
      "[nltk_data]     /home/admin/nltk_data...\n",
      "[nltk_data]   Package perluniprops is already up-to-date!\n",
      "[nltk_data] Downloading package nonbreaking_prefixes to\n",
      "[nltk_data]     /home/admin/nltk_data...\n",
      "[nltk_data]   Package nonbreaking_prefixes is already up-to-date!\n"
     ]
    }
   ],
   "source": [
    "import deeppavlov\n",
    "from deeppavlov.models.preprocessors.torch_transformers_preprocessor import TorchTransformersGenerativeQAPreprocessor\n",
    "import transformers\n",
    "from transformers import AutoTokenizer"
   ]
  },
  {
   "cell_type": "code",
   "execution_count": null,
   "id": "28801a84",
   "metadata": {},
   "outputs": [],
   "source": [
    "tokenizer = TorchTransformersGenerativeQAPreprocessor(\"google/mt5-base\", answer_maxlength=30)\n",
    "atokenizer = AutoTokenizer.from_pretrained(\"google/mt5-base\")"
   ]
  },
  {
   "cell_type": "code",
   "execution_count": null,
   "id": "5c9fda36",
   "metadata": {},
   "outputs": [],
   "source": [
    "def form_dataset(dataset):\n",
    "    new_dataset = []\n",
    "    for data in tqdm(dataset):\n",
    "        passages = filter_passages(data['passages']['passage_text'], data['passages']['is_selected'])\n",
    "        if passages == []:\n",
    "            continue\n",
    "        answer = data['answers'][0]\n",
    "        passages = [passage[0] for passage in passages]\n",
    "        question = data['query']\n",
    "        \n",
    "        tokens = tokenizer([question], [passages], [answer])[0][0]\n",
    "        if len(tokens) <= 300:\n",
    "            atokens = atokenizer([answer])['input_ids'][0]\n",
    "            if 5 <= len(atokens) <= 30:\n",
    "                new_dataset.append([question, passages, answer])\n",
    "    return new_dataset"
   ]
  },
  {
   "cell_type": "code",
   "execution_count": null,
   "id": "16a6799a",
   "metadata": {},
   "outputs": [],
   "source": [
    "new_dataset = form_dataset(dataset)"
   ]
  },
  {
   "cell_type": "code",
   "execution_count": null,
   "id": "7add4757",
   "metadata": {},
   "outputs": [],
   "source": [
    "print(len(new_dataset))"
   ]
  },
  {
   "cell_type": "code",
   "execution_count": null,
   "id": "45d252de",
   "metadata": {},
   "outputs": [],
   "source": [
    "with open('../../datasets/msmarco/train_preprocessed', 'w', encoding='utf-8') as f:\n",
    "    json.dump(new_dataset, f, ensure_ascii=False)"
   ]
  },
  {
   "cell_type": "code",
   "execution_count": null,
   "id": "56a0b665",
   "metadata": {},
   "outputs": [],
   "source": [
    "new_dataset[10]"
   ]
  },
  {
   "cell_type": "code",
   "execution_count": null,
   "id": "86ce6706",
   "metadata": {},
   "outputs": [],
   "source": [
    "with open('../../datasets/msmarco/train_preprocessed.json', 'r', encoding='utf-8') as f:\n",
    "    train = json.load(f)\n",
    "with open('../../datasets/msmarco/dev_preprocessed.json', 'r', encoding='utf-8') as f:\n",
    "    dev = json.load(f)\n",
    "new_dataset = {\"train\": [], \"valid\": [], \"test\": []}\n",
    "new_dataset['train'] = train\n",
    "valid, test = train_test_split(dev, test_size=0.5, random_state=2022)\n",
    "new_dataset['valid'], new_dataset['test'] = valid, test\n",
    "\n",
    "with open('../../datasets/msmarco/ms_marco_preprocessed.json', 'w', encoding='utf-8') as f:\n",
    "    json.dump(new_dataset, f, ensure_ascii=False)"
   ]
  },
  {
   "cell_type": "code",
   "execution_count": null,
   "id": "0c48f0ea",
   "metadata": {},
   "outputs": [],
   "source": [
    "nd = {}\n",
    "for b in new_dataset.keys():\n",
    "    nd[b] = []\n",
    "    for question, contexts, answer in new_dataset[b]:\n",
    "        nd[b].append([[question, contexts], answer])"
   ]
  },
  {
   "cell_type": "code",
   "execution_count": null,
   "id": "a3cbc44d",
   "metadata": {},
   "outputs": [],
   "source": [
    "with open('../../datasets/msmarco/ms_marco_preprocessed.json', 'w', encoding='utf-8') as f:\n",
    "    json.dump(nd, f, ensure_ascii=False)"
   ]
  }
 ],
 "metadata": {
  "kernelspec": {
   "display_name": "Python 3 (ipykernel)",
   "language": "python",
   "name": "python3"
  },
  "language_info": {
   "codemirror_mode": {
    "name": "ipython",
    "version": 3
   },
   "file_extension": ".py",
   "mimetype": "text/x-python",
   "name": "python",
   "nbconvert_exporter": "python",
   "pygments_lexer": "ipython3",
   "version": "3.7.14"
  },
  "varInspector": {
   "cols": {
    "lenName": 16,
    "lenType": 16,
    "lenVar": 40
   },
   "kernels_config": {
    "python": {
     "delete_cmd_postfix": "",
     "delete_cmd_prefix": "del ",
     "library": "var_list.py",
     "varRefreshCmd": "print(var_dic_list())"
    },
    "r": {
     "delete_cmd_postfix": ") ",
     "delete_cmd_prefix": "rm(",
     "library": "var_list.r",
     "varRefreshCmd": "cat(var_dic_list()) "
    }
   },
   "types_to_exclude": [
    "module",
    "function",
    "builtin_function_or_method",
    "instance",
    "_Feature"
   ],
   "window_display": false
  }
 },
 "nbformat": 4,
 "nbformat_minor": 5
}
